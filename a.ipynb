{
 "cells": [
  {
   "cell_type": "code",
   "execution_count": 13,
   "metadata": {},
   "outputs": [
    {
     "name": "stdout",
     "output_type": "stream",
     "text": [
      "An error occurred: [Errno 2] No such file or directory: 'ffprobe'\n",
      "Failed to download audio.\n"
     ]
    },
    {
     "name": "stderr",
     "output_type": "stream",
     "text": [
      "/Users/hyeokjong/anaconda3/envs/local/lib/python3.9/site-packages/pydub/utils.py:198: RuntimeWarning: Couldn't find ffprobe or avprobe - defaulting to ffprobe, but may not work\n",
      "  warn(\"Couldn't find ffprobe or avprobe - defaulting to ffprobe, but may not work\", RuntimeWarning)\n"
     ]
    }
   ],
   "source": [
    "from pytube import YouTube\n",
    "from pydub import AudioSegment\n",
    "import io\n",
    "\n",
    "def download_youtube_audio(url):\n",
    "    try:\n",
    "        # Download the video\n",
    "        yt = YouTube(url)\n",
    "        video = yt.streams.filter(only_audio=True).first()\n",
    "        audio_stream = io.BytesIO()\n",
    "        video.stream_to_buffer(audio_stream)\n",
    "        audio_stream.seek(0)\n",
    "\n",
    "        # Convert to MP3 using pydub\n",
    "        audio = AudioSegment.from_file(audio_stream, format=\"webm\")  # Specify the format of the input stream\n",
    "        audio_file = yt.title + '.mp3'\n",
    "        audio.export(audio_file, format=\"mp3\")\n",
    "        return audio_file\n",
    "\n",
    "    except Exception as e:\n",
    "        print(f\"An error occurred: {e}\")\n",
    "        return None\n",
    "\n",
    "# Example usage\n",
    "audio_file = download_youtube_audio('https://www.youtube.com/watch?v=ZQXq4Kv5ppQ')\n",
    "if audio_file:\n",
    "    print(f\"Audio file saved as: {audio_file}\")\n",
    "else:\n",
    "    print(\"Failed to download audio.\")\n"
   ]
  },
  {
   "cell_type": "code",
   "execution_count": null,
   "metadata": {},
   "outputs": [],
   "source": []
  }
 ],
 "metadata": {
  "kernelspec": {
   "display_name": "local",
   "language": "python",
   "name": "python3"
  },
  "language_info": {
   "codemirror_mode": {
    "name": "ipython",
    "version": 3
   },
   "file_extension": ".py",
   "mimetype": "text/x-python",
   "name": "python",
   "nbconvert_exporter": "python",
   "pygments_lexer": "ipython3",
   "version": "3.9.18"
  }
 },
 "nbformat": 4,
 "nbformat_minor": 2
}
