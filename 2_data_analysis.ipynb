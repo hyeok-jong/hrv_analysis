{
 "cells": [
  {
   "cell_type": "code",
   "execution_count": 1,
   "metadata": {},
   "outputs": [],
   "source": [
    "import matplotlib.pyplot as plt\n",
    "import pandas as pd\n",
    "from processing import biosppy_processing, nk_processing, processing_aggregate\n",
    "from time_domain import time\n",
    "from frequency_domain import frequency\n",
    "from nonlinear import nonlinear\n",
    "import numpy as np\n",
    "\n",
    "from tqdm.notebook import tqdm"
   ]
  },
  {
   "cell_type": "markdown",
   "metadata": {},
   "source": [
    "## 0. Read Data"
   ]
  },
  {
   "cell_type": "code",
   "execution_count": 2,
   "metadata": {},
   "outputs": [
    {
     "data": {
      "text/html": [
       "<div>\n",
       "<style scoped>\n",
       "    .dataframe tbody tr th:only-of-type {\n",
       "        vertical-align: middle;\n",
       "    }\n",
       "\n",
       "    .dataframe tbody tr th {\n",
       "        vertical-align: top;\n",
       "    }\n",
       "\n",
       "    .dataframe thead th {\n",
       "        text-align: right;\n",
       "    }\n",
       "</style>\n",
       "<table border=\"1\" class=\"dataframe\">\n",
       "  <thead>\n",
       "    <tr style=\"text-align: right;\">\n",
       "      <th></th>\n",
       "      <th>1</th>\n",
       "      <th>2</th>\n",
       "      <th>3</th>\n",
       "      <th>4</th>\n",
       "      <th>5</th>\n",
       "      <th>6</th>\n",
       "      <th>7</th>\n",
       "      <th>8</th>\n",
       "      <th>9</th>\n",
       "      <th>10</th>\n",
       "      <th>...</th>\n",
       "      <th>239991</th>\n",
       "      <th>239992</th>\n",
       "      <th>239993</th>\n",
       "      <th>239994</th>\n",
       "      <th>239995</th>\n",
       "      <th>239996</th>\n",
       "      <th>239997</th>\n",
       "      <th>239998</th>\n",
       "      <th>239999</th>\n",
       "      <th>240000</th>\n",
       "    </tr>\n",
       "  </thead>\n",
       "  <tbody>\n",
       "    <tr>\n",
       "      <th>id1</th>\n",
       "      <td>0.794525</td>\n",
       "      <td>0.790710</td>\n",
       "      <td>0.785828</td>\n",
       "      <td>0.781708</td>\n",
       "      <td>0.776520</td>\n",
       "      <td>0.772095</td>\n",
       "      <td>0.767212</td>\n",
       "      <td>0.762329</td>\n",
       "      <td>0.757141</td>\n",
       "      <td>0.752411</td>\n",
       "      <td>...</td>\n",
       "      <td>1.750950</td>\n",
       "      <td>1.688230</td>\n",
       "      <td>1.624760</td>\n",
       "      <td>1.560060</td>\n",
       "      <td>1.494600</td>\n",
       "      <td>1.428530</td>\n",
       "      <td>1.362300</td>\n",
       "      <td>1.295780</td>\n",
       "      <td>1.230010</td>\n",
       "      <td>1.164400</td>\n",
       "    </tr>\n",
       "    <tr>\n",
       "      <th>id2</th>\n",
       "      <td>0.033112</td>\n",
       "      <td>0.032196</td>\n",
       "      <td>0.031433</td>\n",
       "      <td>0.030670</td>\n",
       "      <td>0.030060</td>\n",
       "      <td>0.029144</td>\n",
       "      <td>0.028381</td>\n",
       "      <td>0.027771</td>\n",
       "      <td>0.027466</td>\n",
       "      <td>0.026703</td>\n",
       "      <td>...</td>\n",
       "      <td>-0.015564</td>\n",
       "      <td>-0.015564</td>\n",
       "      <td>-0.015869</td>\n",
       "      <td>-0.016022</td>\n",
       "      <td>-0.016327</td>\n",
       "      <td>-0.017090</td>\n",
       "      <td>-0.017700</td>\n",
       "      <td>-0.017853</td>\n",
       "      <td>-0.018616</td>\n",
       "      <td>-0.019226</td>\n",
       "    </tr>\n",
       "    <tr>\n",
       "      <th>id3</th>\n",
       "      <td>0.039368</td>\n",
       "      <td>0.036316</td>\n",
       "      <td>0.033875</td>\n",
       "      <td>0.031738</td>\n",
       "      <td>0.030518</td>\n",
       "      <td>0.029602</td>\n",
       "      <td>0.029144</td>\n",
       "      <td>0.029297</td>\n",
       "      <td>0.030365</td>\n",
       "      <td>0.031281</td>\n",
       "      <td>...</td>\n",
       "      <td>0.131683</td>\n",
       "      <td>0.130920</td>\n",
       "      <td>0.130463</td>\n",
       "      <td>0.130005</td>\n",
       "      <td>0.129852</td>\n",
       "      <td>0.129700</td>\n",
       "      <td>0.129547</td>\n",
       "      <td>0.129700</td>\n",
       "      <td>0.129852</td>\n",
       "      <td>0.129395</td>\n",
       "    </tr>\n",
       "    <tr>\n",
       "      <th>id4</th>\n",
       "      <td>-0.361328</td>\n",
       "      <td>-0.355072</td>\n",
       "      <td>-0.348663</td>\n",
       "      <td>-0.342712</td>\n",
       "      <td>-0.336456</td>\n",
       "      <td>-0.330963</td>\n",
       "      <td>-0.325470</td>\n",
       "      <td>-0.320129</td>\n",
       "      <td>-0.315094</td>\n",
       "      <td>-0.310364</td>\n",
       "      <td>...</td>\n",
       "      <td>-0.195160</td>\n",
       "      <td>-0.194702</td>\n",
       "      <td>-0.193939</td>\n",
       "      <td>-0.193634</td>\n",
       "      <td>-0.192261</td>\n",
       "      <td>-0.191803</td>\n",
       "      <td>-0.191193</td>\n",
       "      <td>-0.190735</td>\n",
       "      <td>-0.189972</td>\n",
       "      <td>-0.189514</td>\n",
       "    </tr>\n",
       "    <tr>\n",
       "      <th>id5</th>\n",
       "      <td>-0.017853</td>\n",
       "      <td>-0.016937</td>\n",
       "      <td>-0.016480</td>\n",
       "      <td>-0.015869</td>\n",
       "      <td>-0.015411</td>\n",
       "      <td>-0.014954</td>\n",
       "      <td>-0.014496</td>\n",
       "      <td>-0.014343</td>\n",
       "      <td>-0.014343</td>\n",
       "      <td>-0.014038</td>\n",
       "      <td>...</td>\n",
       "      <td>0.103607</td>\n",
       "      <td>0.079346</td>\n",
       "      <td>0.055542</td>\n",
       "      <td>0.033417</td>\n",
       "      <td>0.011444</td>\n",
       "      <td>-0.009155</td>\n",
       "      <td>-0.029144</td>\n",
       "      <td>-0.048065</td>\n",
       "      <td>-0.066223</td>\n",
       "      <td>-0.082703</td>\n",
       "    </tr>\n",
       "    <tr>\n",
       "      <th>...</th>\n",
       "      <td>...</td>\n",
       "      <td>...</td>\n",
       "      <td>...</td>\n",
       "      <td>...</td>\n",
       "      <td>...</td>\n",
       "      <td>...</td>\n",
       "      <td>...</td>\n",
       "      <td>...</td>\n",
       "      <td>...</td>\n",
       "      <td>...</td>\n",
       "      <td>...</td>\n",
       "      <td>...</td>\n",
       "      <td>...</td>\n",
       "      <td>...</td>\n",
       "      <td>...</td>\n",
       "      <td>...</td>\n",
       "      <td>...</td>\n",
       "      <td>...</td>\n",
       "      <td>...</td>\n",
       "      <td>...</td>\n",
       "      <td>...</td>\n",
       "    </tr>\n",
       "    <tr>\n",
       "      <th>id69</th>\n",
       "      <td>0.095825</td>\n",
       "      <td>0.095825</td>\n",
       "      <td>0.095825</td>\n",
       "      <td>0.095673</td>\n",
       "      <td>0.095520</td>\n",
       "      <td>0.095215</td>\n",
       "      <td>0.095215</td>\n",
       "      <td>0.094910</td>\n",
       "      <td>0.094910</td>\n",
       "      <td>0.095062</td>\n",
       "      <td>...</td>\n",
       "      <td>0.083008</td>\n",
       "      <td>0.083618</td>\n",
       "      <td>0.083313</td>\n",
       "      <td>0.083771</td>\n",
       "      <td>0.083771</td>\n",
       "      <td>0.084228</td>\n",
       "      <td>0.084381</td>\n",
       "      <td>0.084686</td>\n",
       "      <td>0.084839</td>\n",
       "      <td>0.084839</td>\n",
       "    </tr>\n",
       "    <tr>\n",
       "      <th>id70</th>\n",
       "      <td>0.001526</td>\n",
       "      <td>0.002594</td>\n",
       "      <td>0.003662</td>\n",
       "      <td>0.004578</td>\n",
       "      <td>0.005798</td>\n",
       "      <td>0.006714</td>\n",
       "      <td>0.008240</td>\n",
       "      <td>0.009308</td>\n",
       "      <td>0.011139</td>\n",
       "      <td>0.012665</td>\n",
       "      <td>...</td>\n",
       "      <td>-0.070953</td>\n",
       "      <td>-0.088043</td>\n",
       "      <td>-0.103302</td>\n",
       "      <td>-0.116577</td>\n",
       "      <td>-0.128784</td>\n",
       "      <td>-0.139008</td>\n",
       "      <td>-0.148010</td>\n",
       "      <td>-0.155334</td>\n",
       "      <td>-0.161133</td>\n",
       "      <td>-0.166016</td>\n",
       "    </tr>\n",
       "    <tr>\n",
       "      <th>id71</th>\n",
       "      <td>-0.545654</td>\n",
       "      <td>-0.547791</td>\n",
       "      <td>-0.549164</td>\n",
       "      <td>-0.550690</td>\n",
       "      <td>-0.551758</td>\n",
       "      <td>-0.553131</td>\n",
       "      <td>-0.554047</td>\n",
       "      <td>-0.555115</td>\n",
       "      <td>-0.555878</td>\n",
       "      <td>-0.556793</td>\n",
       "      <td>...</td>\n",
       "      <td>0.080261</td>\n",
       "      <td>0.080414</td>\n",
       "      <td>0.080566</td>\n",
       "      <td>0.080566</td>\n",
       "      <td>0.080261</td>\n",
       "      <td>0.079803</td>\n",
       "      <td>0.079803</td>\n",
       "      <td>0.079651</td>\n",
       "      <td>0.079346</td>\n",
       "      <td>0.079346</td>\n",
       "    </tr>\n",
       "    <tr>\n",
       "      <th>id72</th>\n",
       "      <td>-0.001984</td>\n",
       "      <td>-0.003815</td>\n",
       "      <td>-0.004730</td>\n",
       "      <td>-0.006561</td>\n",
       "      <td>-0.007935</td>\n",
       "      <td>-0.009613</td>\n",
       "      <td>-0.011444</td>\n",
       "      <td>-0.013275</td>\n",
       "      <td>-0.014648</td>\n",
       "      <td>-0.016937</td>\n",
       "      <td>...</td>\n",
       "      <td>-0.074463</td>\n",
       "      <td>-0.074768</td>\n",
       "      <td>-0.074768</td>\n",
       "      <td>-0.074768</td>\n",
       "      <td>-0.074616</td>\n",
       "      <td>-0.074921</td>\n",
       "      <td>-0.074921</td>\n",
       "      <td>-0.074921</td>\n",
       "      <td>-0.075226</td>\n",
       "      <td>-0.075378</td>\n",
       "    </tr>\n",
       "    <tr>\n",
       "      <th>id73</th>\n",
       "      <td>0.135651</td>\n",
       "      <td>0.135956</td>\n",
       "      <td>0.136261</td>\n",
       "      <td>0.136871</td>\n",
       "      <td>0.137482</td>\n",
       "      <td>0.138092</td>\n",
       "      <td>0.139008</td>\n",
       "      <td>0.139160</td>\n",
       "      <td>0.139923</td>\n",
       "      <td>0.140381</td>\n",
       "      <td>...</td>\n",
       "      <td>1.353000</td>\n",
       "      <td>1.329500</td>\n",
       "      <td>1.302190</td>\n",
       "      <td>1.270750</td>\n",
       "      <td>1.235660</td>\n",
       "      <td>1.197050</td>\n",
       "      <td>1.154630</td>\n",
       "      <td>1.109010</td>\n",
       "      <td>1.061250</td>\n",
       "      <td>1.010130</td>\n",
       "    </tr>\n",
       "  </tbody>\n",
       "</table>\n",
       "<p>70 rows × 240000 columns</p>\n",
       "</div>"
      ],
      "text/plain": [
       "        1         2         3         4         5         6         7       \\\n",
       "id1   0.794525  0.790710  0.785828  0.781708  0.776520  0.772095  0.767212   \n",
       "id2   0.033112  0.032196  0.031433  0.030670  0.030060  0.029144  0.028381   \n",
       "id3   0.039368  0.036316  0.033875  0.031738  0.030518  0.029602  0.029144   \n",
       "id4  -0.361328 -0.355072 -0.348663 -0.342712 -0.336456 -0.330963 -0.325470   \n",
       "id5  -0.017853 -0.016937 -0.016480 -0.015869 -0.015411 -0.014954 -0.014496   \n",
       "...        ...       ...       ...       ...       ...       ...       ...   \n",
       "id69  0.095825  0.095825  0.095825  0.095673  0.095520  0.095215  0.095215   \n",
       "id70  0.001526  0.002594  0.003662  0.004578  0.005798  0.006714  0.008240   \n",
       "id71 -0.545654 -0.547791 -0.549164 -0.550690 -0.551758 -0.553131 -0.554047   \n",
       "id72 -0.001984 -0.003815 -0.004730 -0.006561 -0.007935 -0.009613 -0.011444   \n",
       "id73  0.135651  0.135956  0.136261  0.136871  0.137482  0.138092  0.139008   \n",
       "\n",
       "        8         9         10      ...    239991    239992    239993  \\\n",
       "id1   0.762329  0.757141  0.752411  ...  1.750950  1.688230  1.624760   \n",
       "id2   0.027771  0.027466  0.026703  ... -0.015564 -0.015564 -0.015869   \n",
       "id3   0.029297  0.030365  0.031281  ...  0.131683  0.130920  0.130463   \n",
       "id4  -0.320129 -0.315094 -0.310364  ... -0.195160 -0.194702 -0.193939   \n",
       "id5  -0.014343 -0.014343 -0.014038  ...  0.103607  0.079346  0.055542   \n",
       "...        ...       ...       ...  ...       ...       ...       ...   \n",
       "id69  0.094910  0.094910  0.095062  ...  0.083008  0.083618  0.083313   \n",
       "id70  0.009308  0.011139  0.012665  ... -0.070953 -0.088043 -0.103302   \n",
       "id71 -0.555115 -0.555878 -0.556793  ...  0.080261  0.080414  0.080566   \n",
       "id72 -0.013275 -0.014648 -0.016937  ... -0.074463 -0.074768 -0.074768   \n",
       "id73  0.139160  0.139923  0.140381  ...  1.353000  1.329500  1.302190   \n",
       "\n",
       "        239994    239995    239996    239997    239998    239999    240000  \n",
       "id1   1.560060  1.494600  1.428530  1.362300  1.295780  1.230010  1.164400  \n",
       "id2  -0.016022 -0.016327 -0.017090 -0.017700 -0.017853 -0.018616 -0.019226  \n",
       "id3   0.130005  0.129852  0.129700  0.129547  0.129700  0.129852  0.129395  \n",
       "id4  -0.193634 -0.192261 -0.191803 -0.191193 -0.190735 -0.189972 -0.189514  \n",
       "id5   0.033417  0.011444 -0.009155 -0.029144 -0.048065 -0.066223 -0.082703  \n",
       "...        ...       ...       ...       ...       ...       ...       ...  \n",
       "id69  0.083771  0.083771  0.084228  0.084381  0.084686  0.084839  0.084839  \n",
       "id70 -0.116577 -0.128784 -0.139008 -0.148010 -0.155334 -0.161133 -0.166016  \n",
       "id71  0.080566  0.080261  0.079803  0.079803  0.079651  0.079346  0.079346  \n",
       "id72 -0.074768 -0.074616 -0.074921 -0.074921 -0.074921 -0.075226 -0.075378  \n",
       "id73  1.270750  1.235660  1.197050  1.154630  1.109010  1.061250  1.010130  \n",
       "\n",
       "[70 rows x 240000 columns]"
      ]
     },
     "execution_count": 2,
     "metadata": {},
     "output_type": "execute_result"
    }
   ],
   "source": [
    "sampling_rate = 2000\n",
    "raw = pd.read_csv('./data/ecg_70.txt', sep = ' ').T\n",
    "raw"
   ]
  },
  {
   "cell_type": "code",
   "execution_count": null,
   "metadata": {},
   "outputs": [],
   "source": []
  },
  {
   "cell_type": "markdown",
   "metadata": {},
   "source": [
    "## 1. Time Domain"
   ]
  },
  {
   "cell_type": "code",
   "execution_count": 3,
   "metadata": {},
   "outputs": [
    {
     "data": {
      "application/vnd.jupyter.widget-view+json": {
       "model_id": "b66fcac136224384bf3954287cc2f323",
       "version_major": 2,
       "version_minor": 0
      },
      "text/plain": [
       "  0%|          | 0/70 [00:00<?, ?it/s]"
      ]
     },
     "metadata": {},
     "output_type": "display_data"
    },
    {
     "data": {
      "application/vnd.jupyter.widget-view+json": {
       "model_id": "fc71a7894ac6465183f5965c68210a69",
       "version_major": 2,
       "version_minor": 0
      },
      "text/plain": [
       "  0%|          | 0/70 [00:00<?, ?it/s]"
      ]
     },
     "metadata": {},
     "output_type": "display_data"
    },
    {
     "data": {
      "application/vnd.jupyter.widget-view+json": {
       "model_id": "2958d5b2e9dd44f88a4061a6af24459e",
       "version_major": 2,
       "version_minor": 0
      },
      "text/plain": [
       "  0%|          | 0/70 [00:00<?, ?it/s]"
      ]
     },
     "metadata": {},
     "output_type": "display_data"
    }
   ],
   "source": [
    "time_nk_result = dict()\n",
    "for row in tqdm(raw.iterrows(), total = len(raw)):\n",
    "    id = row[0]\n",
    "    sampling_rate = 2000\n",
    "    signal = row[1].tolist()\n",
    "    pro = nk_processing(signal, sampling_rate)\n",
    "    time_nk_result[id] = time(pro['rpeaks'], 2000)\n",
    "    \n",
    "    \n",
    "time_biosppy_result = dict()\n",
    "for row in tqdm(raw.iterrows(), total = len(raw)):\n",
    "    id = row[0]\n",
    "    sampling_rate = 2000\n",
    "    signal = row[1].tolist()\n",
    "    pro = biosppy_processing(signal, sampling_rate)\n",
    "    time_biosppy_result[id] = time(pro['rpeaks'], 2000)\n",
    "    \n",
    "    \n",
    "time_aggregate_result = dict()\n",
    "for row in tqdm(raw.iterrows(), total = len(raw)):\n",
    "    id = row[0]\n",
    "    sampling_rate = 2000\n",
    "    signal = row[1].tolist()\n",
    "    pro = processing_aggregate(signal, sampling_rate)\n",
    "    time_aggregate_result[id] = time(pro['rpeaks'], 2000)\n"
   ]
  },
  {
   "cell_type": "code",
   "execution_count": 8,
   "metadata": {},
   "outputs": [],
   "source": [
    "pd.set_option('display.float_format', lambda x: f'{x:.2f}') "
   ]
  },
  {
   "cell_type": "code",
   "execution_count": 27,
   "metadata": {},
   "outputs": [
    {
     "data": {
      "text/html": [
       "<div>\n",
       "<style scoped>\n",
       "    .dataframe tbody tr th:only-of-type {\n",
       "        vertical-align: middle;\n",
       "    }\n",
       "\n",
       "    .dataframe tbody tr th {\n",
       "        vertical-align: top;\n",
       "    }\n",
       "\n",
       "    .dataframe thead th {\n",
       "        text-align: right;\n",
       "    }\n",
       "</style>\n",
       "<table border=\"1\" class=\"dataframe\">\n",
       "  <thead>\n",
       "    <tr style=\"text-align: right;\">\n",
       "      <th></th>\n",
       "      <th>mean</th>\n",
       "      <th>std</th>\n",
       "    </tr>\n",
       "  </thead>\n",
       "  <tbody>\n",
       "    <tr>\n",
       "      <th>pyhrv rmssd</th>\n",
       "      <td>46.39</td>\n",
       "      <td>36.54</td>\n",
       "    </tr>\n",
       "    <tr>\n",
       "      <th>nk rmssd</th>\n",
       "      <td>46.39</td>\n",
       "      <td>36.54</td>\n",
       "    </tr>\n",
       "  </tbody>\n",
       "</table>\n",
       "</div>"
      ],
      "text/plain": [
       "             mean   std\n",
       "pyhrv rmssd 46.39 36.54\n",
       "nk rmssd    46.39 36.54"
      ]
     },
     "execution_count": 27,
     "metadata": {},
     "output_type": "execute_result"
    }
   ],
   "source": [
    "temp = time_nk_result\n",
    "temp = pd.DataFrame(temp).T.describe().loc[['mean', 'std']].T\n",
    "temp[temp.index.str.endswith('rmssd')]\n",
    "\n"
   ]
  },
  {
   "cell_type": "code",
   "execution_count": 28,
   "metadata": {},
   "outputs": [
    {
     "data": {
      "text/html": [
       "<div>\n",
       "<style scoped>\n",
       "    .dataframe tbody tr th:only-of-type {\n",
       "        vertical-align: middle;\n",
       "    }\n",
       "\n",
       "    .dataframe tbody tr th {\n",
       "        vertical-align: top;\n",
       "    }\n",
       "\n",
       "    .dataframe thead th {\n",
       "        text-align: right;\n",
       "    }\n",
       "</style>\n",
       "<table border=\"1\" class=\"dataframe\">\n",
       "  <thead>\n",
       "    <tr style=\"text-align: right;\">\n",
       "      <th></th>\n",
       "      <th>mean</th>\n",
       "      <th>std</th>\n",
       "    </tr>\n",
       "  </thead>\n",
       "  <tbody>\n",
       "    <tr>\n",
       "      <th>pyhrv rmssd</th>\n",
       "      <td>45.56</td>\n",
       "      <td>32.62</td>\n",
       "    </tr>\n",
       "    <tr>\n",
       "      <th>nk rmssd</th>\n",
       "      <td>45.56</td>\n",
       "      <td>32.62</td>\n",
       "    </tr>\n",
       "  </tbody>\n",
       "</table>\n",
       "</div>"
      ],
      "text/plain": [
       "             mean   std\n",
       "pyhrv rmssd 45.56 32.62\n",
       "nk rmssd    45.56 32.62"
      ]
     },
     "execution_count": 28,
     "metadata": {},
     "output_type": "execute_result"
    }
   ],
   "source": [
    "temp = time_biosppy_result\n",
    "temp = pd.DataFrame(temp).T.describe().loc[['mean', 'std']].T\n",
    "temp[temp.index.str.endswith('rmssd')]\n",
    "\n"
   ]
  },
  {
   "cell_type": "code",
   "execution_count": 29,
   "metadata": {},
   "outputs": [
    {
     "data": {
      "text/html": [
       "<div>\n",
       "<style scoped>\n",
       "    .dataframe tbody tr th:only-of-type {\n",
       "        vertical-align: middle;\n",
       "    }\n",
       "\n",
       "    .dataframe tbody tr th {\n",
       "        vertical-align: top;\n",
       "    }\n",
       "\n",
       "    .dataframe thead th {\n",
       "        text-align: right;\n",
       "    }\n",
       "</style>\n",
       "<table border=\"1\" class=\"dataframe\">\n",
       "  <thead>\n",
       "    <tr style=\"text-align: right;\">\n",
       "      <th></th>\n",
       "      <th>mean</th>\n",
       "      <th>std</th>\n",
       "    </tr>\n",
       "  </thead>\n",
       "  <tbody>\n",
       "    <tr>\n",
       "      <th>pyhrv rmssd</th>\n",
       "      <td>46.38</td>\n",
       "      <td>36.53</td>\n",
       "    </tr>\n",
       "    <tr>\n",
       "      <th>nk rmssd</th>\n",
       "      <td>46.38</td>\n",
       "      <td>36.53</td>\n",
       "    </tr>\n",
       "  </tbody>\n",
       "</table>\n",
       "</div>"
      ],
      "text/plain": [
       "             mean   std\n",
       "pyhrv rmssd 46.38 36.53\n",
       "nk rmssd    46.38 36.53"
      ]
     },
     "execution_count": 29,
     "metadata": {},
     "output_type": "execute_result"
    }
   ],
   "source": [
    "temp = time_aggregate_result\n",
    "temp = pd.DataFrame(temp).T.describe().loc[['mean', 'std']].T\n",
    "temp[temp.index.str.endswith('rmssd')]\n",
    "\n"
   ]
  },
  {
   "cell_type": "code",
   "execution_count": null,
   "metadata": {},
   "outputs": [],
   "source": []
  },
  {
   "cell_type": "markdown",
   "metadata": {},
   "source": [
    "## 2. Frequency Domain"
   ]
  },
  {
   "cell_type": "code",
   "execution_count": 4,
   "metadata": {},
   "outputs": [
    {
     "data": {
      "application/vnd.jupyter.widget-view+json": {
       "model_id": "996297836343412ebf73776afb56cb5b",
       "version_major": 2,
       "version_minor": 0
      },
      "text/plain": [
       "  0%|          | 0/70 [00:00<?, ?it/s]"
      ]
     },
     "metadata": {},
     "output_type": "display_data"
    },
    {
     "data": {
      "application/vnd.jupyter.widget-view+json": {
       "model_id": "39c803c18b164526a0c9af6c18b95da6",
       "version_major": 2,
       "version_minor": 0
      },
      "text/plain": [
       "  0%|          | 0/70 [00:00<?, ?it/s]"
      ]
     },
     "metadata": {},
     "output_type": "display_data"
    },
    {
     "data": {
      "application/vnd.jupyter.widget-view+json": {
       "model_id": "4616cae3192b4f95bfd26ac85708a821",
       "version_major": 2,
       "version_minor": 0
      },
      "text/plain": [
       "  0%|          | 0/70 [00:00<?, ?it/s]"
      ]
     },
     "metadata": {},
     "output_type": "display_data"
    }
   ],
   "source": [
    "frequency_nk_result = dict()\n",
    "for row in tqdm(raw.iterrows(), total = len(raw)):\n",
    "    id = row[0]\n",
    "    sampling_rate = 2000\n",
    "    signal = row[1].tolist()\n",
    "    pro = nk_processing(signal, sampling_rate)\n",
    "    frequency_nk_result_ = dict()\n",
    "    output = frequency(pro['rpeaks'], 2000)\n",
    "    frequency_nk_result_['pyhrv welch'] = output['pyhrv welch']['fft_ratio']\n",
    "    frequency_nk_result_['pyhrv ar'] = output['pyhrv ar']['ar_ratio']\n",
    "    frequency_nk_result_['nk welch'] = output['nk welch']['HRV_LFHF']\n",
    "    frequency_nk_result_['nk fft'] = output['nk fft']['HRV_LFHF']\n",
    "    frequency_nk_result[id] = frequency_nk_result_\n",
    "\n",
    "\n",
    "\n",
    "frequency_biosppy_result = dict()\n",
    "for row in tqdm(raw.iterrows(), total = len(raw)):\n",
    "    id = row[0]\n",
    "    sampling_rate = 2000\n",
    "    signal = row[1].tolist()\n",
    "    pro = biosppy_processing(signal, sampling_rate)\n",
    "    frequency_biosppy_result_ = dict()\n",
    "    output = frequency(pro['rpeaks'], 2000)\n",
    "    frequency_biosppy_result_['pyhrv welch'] = output['pyhrv welch']['fft_ratio']\n",
    "    frequency_biosppy_result_['pyhrv ar'] = output['pyhrv ar']['ar_ratio']\n",
    "    frequency_biosppy_result_['nk welch'] = output['nk welch']['HRV_LFHF']\n",
    "    frequency_biosppy_result_['nk fft'] = output['nk fft']['HRV_LFHF']\n",
    "    frequency_biosppy_result[id] = frequency_biosppy_result_\n",
    "\n",
    "\n",
    "\n",
    "\n",
    "frequency_aggregate_result = dict()\n",
    "for row in tqdm(raw.iterrows(), total = len(raw)):\n",
    "    id = row[0]\n",
    "    sampling_rate = 2000\n",
    "    signal = row[1].tolist()\n",
    "    pro = processing_aggregate(signal, sampling_rate)\n",
    "    frequency_aggregate_result_ = dict()\n",
    "    output = frequency(pro['rpeaks'], 2000)\n",
    "    frequency_aggregate_result_['pyhrv welch'] = output['pyhrv welch']['fft_ratio']\n",
    "    frequency_aggregate_result_['pyhrv ar'] = output['pyhrv ar']['ar_ratio']\n",
    "    frequency_aggregate_result_['nk welch'] = output['nk welch']['HRV_LFHF']\n",
    "    frequency_aggregate_result_['nk fft'] = output['nk fft']['HRV_LFHF']\n",
    "    frequency_aggregate_result[id] = frequency_aggregate_result_\n",
    "\n",
    "\n",
    "\n"
   ]
  },
  {
   "cell_type": "code",
   "execution_count": 9,
   "metadata": {},
   "outputs": [
    {
     "data": {
      "text/html": [
       "<div>\n",
       "<style scoped>\n",
       "    .dataframe tbody tr th:only-of-type {\n",
       "        vertical-align: middle;\n",
       "    }\n",
       "\n",
       "    .dataframe tbody tr th {\n",
       "        vertical-align: top;\n",
       "    }\n",
       "\n",
       "    .dataframe thead th {\n",
       "        text-align: right;\n",
       "    }\n",
       "</style>\n",
       "<table border=\"1\" class=\"dataframe\">\n",
       "  <thead>\n",
       "    <tr style=\"text-align: right;\">\n",
       "      <th></th>\n",
       "      <th>mean</th>\n",
       "      <th>std</th>\n",
       "    </tr>\n",
       "  </thead>\n",
       "  <tbody>\n",
       "    <tr>\n",
       "      <th>pyhrv welch</th>\n",
       "      <td>2.28</td>\n",
       "      <td>1.97</td>\n",
       "    </tr>\n",
       "    <tr>\n",
       "      <th>pyhrv ar</th>\n",
       "      <td>1.85</td>\n",
       "      <td>0.06</td>\n",
       "    </tr>\n",
       "    <tr>\n",
       "      <th>nk welch</th>\n",
       "      <td>2.25</td>\n",
       "      <td>1.84</td>\n",
       "    </tr>\n",
       "    <tr>\n",
       "      <th>nk fft</th>\n",
       "      <td>2.26</td>\n",
       "      <td>1.75</td>\n",
       "    </tr>\n",
       "  </tbody>\n",
       "</table>\n",
       "</div>"
      ],
      "text/plain": [
       "             mean  std\n",
       "pyhrv welch  2.28 1.97\n",
       "pyhrv ar     1.85 0.06\n",
       "nk welch     2.25 1.84\n",
       "nk fft       2.26 1.75"
      ]
     },
     "execution_count": 9,
     "metadata": {},
     "output_type": "execute_result"
    }
   ],
   "source": [
    "temp = frequency_nk_result\n",
    "temp = pd.DataFrame(temp).T.describe().loc[['mean', 'std']].T\n",
    "temp\n",
    "\n"
   ]
  },
  {
   "cell_type": "code",
   "execution_count": 10,
   "metadata": {},
   "outputs": [
    {
     "data": {
      "text/html": [
       "<div>\n",
       "<style scoped>\n",
       "    .dataframe tbody tr th:only-of-type {\n",
       "        vertical-align: middle;\n",
       "    }\n",
       "\n",
       "    .dataframe tbody tr th {\n",
       "        vertical-align: top;\n",
       "    }\n",
       "\n",
       "    .dataframe thead th {\n",
       "        text-align: right;\n",
       "    }\n",
       "</style>\n",
       "<table border=\"1\" class=\"dataframe\">\n",
       "  <thead>\n",
       "    <tr style=\"text-align: right;\">\n",
       "      <th></th>\n",
       "      <th>mean</th>\n",
       "      <th>std</th>\n",
       "    </tr>\n",
       "  </thead>\n",
       "  <tbody>\n",
       "    <tr>\n",
       "      <th>pyhrv welch</th>\n",
       "      <td>2.23</td>\n",
       "      <td>2.01</td>\n",
       "    </tr>\n",
       "    <tr>\n",
       "      <th>pyhrv ar</th>\n",
       "      <td>1.85</td>\n",
       "      <td>0.06</td>\n",
       "    </tr>\n",
       "    <tr>\n",
       "      <th>nk welch</th>\n",
       "      <td>2.21</td>\n",
       "      <td>1.90</td>\n",
       "    </tr>\n",
       "    <tr>\n",
       "      <th>nk fft</th>\n",
       "      <td>2.22</td>\n",
       "      <td>1.77</td>\n",
       "    </tr>\n",
       "  </tbody>\n",
       "</table>\n",
       "</div>"
      ],
      "text/plain": [
       "             mean  std\n",
       "pyhrv welch  2.23 2.01\n",
       "pyhrv ar     1.85 0.06\n",
       "nk welch     2.21 1.90\n",
       "nk fft       2.22 1.77"
      ]
     },
     "execution_count": 10,
     "metadata": {},
     "output_type": "execute_result"
    }
   ],
   "source": [
    "temp = frequency_biosppy_result\n",
    "temp = pd.DataFrame(temp).T.describe().loc[['mean', 'std']].T\n",
    "temp\n",
    "\n"
   ]
  },
  {
   "cell_type": "code",
   "execution_count": 11,
   "metadata": {},
   "outputs": [
    {
     "data": {
      "text/html": [
       "<div>\n",
       "<style scoped>\n",
       "    .dataframe tbody tr th:only-of-type {\n",
       "        vertical-align: middle;\n",
       "    }\n",
       "\n",
       "    .dataframe tbody tr th {\n",
       "        vertical-align: top;\n",
       "    }\n",
       "\n",
       "    .dataframe thead th {\n",
       "        text-align: right;\n",
       "    }\n",
       "</style>\n",
       "<table border=\"1\" class=\"dataframe\">\n",
       "  <thead>\n",
       "    <tr style=\"text-align: right;\">\n",
       "      <th></th>\n",
       "      <th>mean</th>\n",
       "      <th>std</th>\n",
       "    </tr>\n",
       "  </thead>\n",
       "  <tbody>\n",
       "    <tr>\n",
       "      <th>pyhrv welch</th>\n",
       "      <td>2.28</td>\n",
       "      <td>1.97</td>\n",
       "    </tr>\n",
       "    <tr>\n",
       "      <th>pyhrv ar</th>\n",
       "      <td>1.85</td>\n",
       "      <td>0.06</td>\n",
       "    </tr>\n",
       "    <tr>\n",
       "      <th>nk welch</th>\n",
       "      <td>2.23</td>\n",
       "      <td>1.80</td>\n",
       "    </tr>\n",
       "    <tr>\n",
       "      <th>nk fft</th>\n",
       "      <td>2.24</td>\n",
       "      <td>1.73</td>\n",
       "    </tr>\n",
       "  </tbody>\n",
       "</table>\n",
       "</div>"
      ],
      "text/plain": [
       "             mean  std\n",
       "pyhrv welch  2.28 1.97\n",
       "pyhrv ar     1.85 0.06\n",
       "nk welch     2.23 1.80\n",
       "nk fft       2.24 1.73"
      ]
     },
     "execution_count": 11,
     "metadata": {},
     "output_type": "execute_result"
    }
   ],
   "source": [
    "temp = frequency_aggregate_result\n",
    "temp = pd.DataFrame(temp).T.describe().loc[['mean', 'std']].T\n",
    "temp\n",
    "\n"
   ]
  },
  {
   "cell_type": "code",
   "execution_count": null,
   "metadata": {},
   "outputs": [],
   "source": []
  },
  {
   "cell_type": "code",
   "execution_count": null,
   "metadata": {},
   "outputs": [],
   "source": []
  },
  {
   "cell_type": "markdown",
   "metadata": {},
   "source": [
    "## 3. Nonlienar"
   ]
  },
  {
   "cell_type": "code",
   "execution_count": 13,
   "metadata": {},
   "outputs": [
    {
     "data": {
      "application/vnd.jupyter.widget-view+json": {
       "model_id": "58e9634834804fd8a7cbcf38abb86463",
       "version_major": 2,
       "version_minor": 0
      },
      "text/plain": [
       "  0%|          | 0/70 [00:00<?, ?it/s]"
      ]
     },
     "metadata": {},
     "output_type": "display_data"
    },
    {
     "data": {
      "application/vnd.jupyter.widget-view+json": {
       "model_id": "23a3e162e5ec4386bd3efa65bcedb959",
       "version_major": 2,
       "version_minor": 0
      },
      "text/plain": [
       "  0%|          | 0/70 [00:00<?, ?it/s]"
      ]
     },
     "metadata": {},
     "output_type": "display_data"
    },
    {
     "data": {
      "application/vnd.jupyter.widget-view+json": {
       "model_id": "ca433dbacd66470b8c67c827abadcf19",
       "version_major": 2,
       "version_minor": 0
      },
      "text/plain": [
       "  0%|          | 0/70 [00:00<?, ?it/s]"
      ]
     },
     "metadata": {},
     "output_type": "display_data"
    }
   ],
   "source": [
    "nonlinear_nk_result = dict()\n",
    "for row in tqdm(raw.iterrows(), total = len(raw)):\n",
    "    id = row[0]\n",
    "    sampling_rate = 2000\n",
    "    signal = row[1].tolist()\n",
    "    pro = nk_processing(signal, sampling_rate)\n",
    "    nonlinear_nk_result_ = dict()\n",
    "    output = nonlinear(pro['rpeaks'], 2000)\n",
    "    nonlinear_nk_result_['pyhrv'] = output['pyhrv nonlinear']['sd1/sd2']\n",
    "    nonlinear_nk_result_['nk'] = output['nk nonlinear']['HRV_SD1SD2']\n",
    "    nonlinear_nk_result[id] = nonlinear_nk_result_\n",
    "\n",
    "\n",
    "nonlinear_biosppy_result = dict()\n",
    "for row in tqdm(raw.iterrows(), total = len(raw)):\n",
    "    id = row[0]\n",
    "    sampling_rate = 2000\n",
    "    signal = row[1].tolist()\n",
    "    pro = biosppy_processing(signal, sampling_rate)\n",
    "    nonlinear_biosppy_result_ = dict()\n",
    "    output = nonlinear(pro['rpeaks'], 2000)\n",
    "    nonlinear_biosppy_result_['pyhrv'] = output['pyhrv nonlinear']['sd1/sd2']\n",
    "    nonlinear_biosppy_result_['nk'] = output['nk nonlinear']['HRV_SD1SD2']\n",
    "    nonlinear_biosppy_result[id] = nonlinear_biosppy_result_\n",
    "\n",
    "\n",
    "nonlinear_aggregate_result = dict()\n",
    "for row in tqdm(raw.iterrows(), total = len(raw)):\n",
    "    id = row[0]\n",
    "    sampling_rate = 2000\n",
    "    signal = row[1].tolist()\n",
    "    pro = processing_aggregate(signal, sampling_rate)\n",
    "    nonlinear_aggregate_result_ = dict()\n",
    "    output = nonlinear(pro['rpeaks'], 2000)\n",
    "    nonlinear_aggregate_result_['pyhrv'] = output['pyhrv nonlinear']['sd1/sd2']\n",
    "    nonlinear_aggregate_result_['nk'] = output['nk nonlinear']['HRV_SD1SD2']\n",
    "    nonlinear_aggregate_result[id] = nonlinear_aggregate_result_\n",
    "\n",
    "\n"
   ]
  },
  {
   "cell_type": "code",
   "execution_count": 14,
   "metadata": {},
   "outputs": [
    {
     "data": {
      "text/html": [
       "<div>\n",
       "<style scoped>\n",
       "    .dataframe tbody tr th:only-of-type {\n",
       "        vertical-align: middle;\n",
       "    }\n",
       "\n",
       "    .dataframe tbody tr th {\n",
       "        vertical-align: top;\n",
       "    }\n",
       "\n",
       "    .dataframe thead th {\n",
       "        text-align: right;\n",
       "    }\n",
       "</style>\n",
       "<table border=\"1\" class=\"dataframe\">\n",
       "  <thead>\n",
       "    <tr style=\"text-align: right;\">\n",
       "      <th></th>\n",
       "      <th>mean</th>\n",
       "      <th>std</th>\n",
       "    </tr>\n",
       "  </thead>\n",
       "  <tbody>\n",
       "    <tr>\n",
       "      <th>pyhrv</th>\n",
       "      <td>0.43</td>\n",
       "      <td>0.21</td>\n",
       "    </tr>\n",
       "    <tr>\n",
       "      <th>nk</th>\n",
       "      <td>0.43</td>\n",
       "      <td>0.21</td>\n",
       "    </tr>\n",
       "  </tbody>\n",
       "</table>\n",
       "</div>"
      ],
      "text/plain": [
       "       mean  std\n",
       "pyhrv  0.43 0.21\n",
       "nk     0.43 0.21"
      ]
     },
     "execution_count": 14,
     "metadata": {},
     "output_type": "execute_result"
    }
   ],
   "source": [
    "temp = nonlinear_nk_result\n",
    "temp = pd.DataFrame(temp).T.describe().loc[['mean', 'std']].T\n",
    "temp\n",
    "\n"
   ]
  },
  {
   "cell_type": "code",
   "execution_count": 15,
   "metadata": {},
   "outputs": [
    {
     "data": {
      "text/html": [
       "<div>\n",
       "<style scoped>\n",
       "    .dataframe tbody tr th:only-of-type {\n",
       "        vertical-align: middle;\n",
       "    }\n",
       "\n",
       "    .dataframe tbody tr th {\n",
       "        vertical-align: top;\n",
       "    }\n",
       "\n",
       "    .dataframe thead th {\n",
       "        text-align: right;\n",
       "    }\n",
       "</style>\n",
       "<table border=\"1\" class=\"dataframe\">\n",
       "  <thead>\n",
       "    <tr style=\"text-align: right;\">\n",
       "      <th></th>\n",
       "      <th>mean</th>\n",
       "      <th>std</th>\n",
       "    </tr>\n",
       "  </thead>\n",
       "  <tbody>\n",
       "    <tr>\n",
       "      <th>pyhrv</th>\n",
       "      <td>0.43</td>\n",
       "      <td>0.22</td>\n",
       "    </tr>\n",
       "    <tr>\n",
       "      <th>nk</th>\n",
       "      <td>0.43</td>\n",
       "      <td>0.22</td>\n",
       "    </tr>\n",
       "  </tbody>\n",
       "</table>\n",
       "</div>"
      ],
      "text/plain": [
       "       mean  std\n",
       "pyhrv  0.43 0.22\n",
       "nk     0.43 0.22"
      ]
     },
     "execution_count": 15,
     "metadata": {},
     "output_type": "execute_result"
    }
   ],
   "source": [
    "temp = nonlinear_biosppy_result\n",
    "temp = pd.DataFrame(temp).T.describe().loc[['mean', 'std']].T\n",
    "temp\n",
    "\n"
   ]
  },
  {
   "cell_type": "code",
   "execution_count": 16,
   "metadata": {},
   "outputs": [
    {
     "data": {
      "text/html": [
       "<div>\n",
       "<style scoped>\n",
       "    .dataframe tbody tr th:only-of-type {\n",
       "        vertical-align: middle;\n",
       "    }\n",
       "\n",
       "    .dataframe tbody tr th {\n",
       "        vertical-align: top;\n",
       "    }\n",
       "\n",
       "    .dataframe thead th {\n",
       "        text-align: right;\n",
       "    }\n",
       "</style>\n",
       "<table border=\"1\" class=\"dataframe\">\n",
       "  <thead>\n",
       "    <tr style=\"text-align: right;\">\n",
       "      <th></th>\n",
       "      <th>mean</th>\n",
       "      <th>std</th>\n",
       "    </tr>\n",
       "  </thead>\n",
       "  <tbody>\n",
       "    <tr>\n",
       "      <th>pyhrv</th>\n",
       "      <td>0.43</td>\n",
       "      <td>0.21</td>\n",
       "    </tr>\n",
       "    <tr>\n",
       "      <th>nk</th>\n",
       "      <td>0.43</td>\n",
       "      <td>0.21</td>\n",
       "    </tr>\n",
       "  </tbody>\n",
       "</table>\n",
       "</div>"
      ],
      "text/plain": [
       "       mean  std\n",
       "pyhrv  0.43 0.21\n",
       "nk     0.43 0.21"
      ]
     },
     "execution_count": 16,
     "metadata": {},
     "output_type": "execute_result"
    }
   ],
   "source": [
    "temp = nonlinear_aggregate_result\n",
    "temp = pd.DataFrame(temp).T.describe().loc[['mean', 'std']].T\n",
    "temp\n",
    "\n"
   ]
  },
  {
   "cell_type": "code",
   "execution_count": null,
   "metadata": {},
   "outputs": [],
   "source": []
  }
 ],
 "metadata": {
  "kernelspec": {
   "display_name": "local",
   "language": "python",
   "name": "python3"
  },
  "language_info": {
   "codemirror_mode": {
    "name": "ipython",
    "version": 3
   },
   "file_extension": ".py",
   "mimetype": "text/x-python",
   "name": "python",
   "nbconvert_exporter": "python",
   "pygments_lexer": "ipython3",
   "version": "3.9.18"
  }
 },
 "nbformat": 4,
 "nbformat_minor": 2
}
