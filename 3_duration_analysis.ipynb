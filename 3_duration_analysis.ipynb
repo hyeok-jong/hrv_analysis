{
 "cells": [
  {
   "cell_type": "code",
   "execution_count": 2,
   "metadata": {},
   "outputs": [],
   "source": [
    "import matplotlib.pyplot as plt\n",
    "import pandas as pd\n",
    "from processing import biosppy_processing, nk_processing, processing_aggregate\n",
    "from time_domain import time\n",
    "from frequency_domain import frequency\n",
    "from nonlinear import nonlinear\n",
    "import numpy as np\n",
    "\n",
    "from tqdm.notebook import tqdm\n",
    "\n",
    "pd.set_option('display.float_format', lambda x: f'{x:.2f}') "
   ]
  },
  {
   "cell_type": "markdown",
   "metadata": {},
   "source": [
    "## 0. Read Data"
   ]
  },
  {
   "cell_type": "code",
   "execution_count": 3,
   "metadata": {},
   "outputs": [
    {
     "data": {
      "text/html": [
       "<div>\n",
       "<style scoped>\n",
       "    .dataframe tbody tr th:only-of-type {\n",
       "        vertical-align: middle;\n",
       "    }\n",
       "\n",
       "    .dataframe tbody tr th {\n",
       "        vertical-align: top;\n",
       "    }\n",
       "\n",
       "    .dataframe thead th {\n",
       "        text-align: right;\n",
       "    }\n",
       "</style>\n",
       "<table border=\"1\" class=\"dataframe\">\n",
       "  <thead>\n",
       "    <tr style=\"text-align: right;\">\n",
       "      <th></th>\n",
       "      <th>1</th>\n",
       "      <th>2</th>\n",
       "      <th>3</th>\n",
       "      <th>4</th>\n",
       "      <th>5</th>\n",
       "      <th>6</th>\n",
       "      <th>7</th>\n",
       "      <th>8</th>\n",
       "      <th>9</th>\n",
       "      <th>10</th>\n",
       "      <th>...</th>\n",
       "      <th>239991</th>\n",
       "      <th>239992</th>\n",
       "      <th>239993</th>\n",
       "      <th>239994</th>\n",
       "      <th>239995</th>\n",
       "      <th>239996</th>\n",
       "      <th>239997</th>\n",
       "      <th>239998</th>\n",
       "      <th>239999</th>\n",
       "      <th>240000</th>\n",
       "    </tr>\n",
       "  </thead>\n",
       "  <tbody>\n",
       "    <tr>\n",
       "      <th>id1</th>\n",
       "      <td>0.79</td>\n",
       "      <td>0.79</td>\n",
       "      <td>0.79</td>\n",
       "      <td>0.78</td>\n",
       "      <td>0.78</td>\n",
       "      <td>0.77</td>\n",
       "      <td>0.77</td>\n",
       "      <td>0.76</td>\n",
       "      <td>0.76</td>\n",
       "      <td>0.75</td>\n",
       "      <td>...</td>\n",
       "      <td>1.75</td>\n",
       "      <td>1.69</td>\n",
       "      <td>1.62</td>\n",
       "      <td>1.56</td>\n",
       "      <td>1.49</td>\n",
       "      <td>1.43</td>\n",
       "      <td>1.36</td>\n",
       "      <td>1.30</td>\n",
       "      <td>1.23</td>\n",
       "      <td>1.16</td>\n",
       "    </tr>\n",
       "    <tr>\n",
       "      <th>id2</th>\n",
       "      <td>0.03</td>\n",
       "      <td>0.03</td>\n",
       "      <td>0.03</td>\n",
       "      <td>0.03</td>\n",
       "      <td>0.03</td>\n",
       "      <td>0.03</td>\n",
       "      <td>0.03</td>\n",
       "      <td>0.03</td>\n",
       "      <td>0.03</td>\n",
       "      <td>0.03</td>\n",
       "      <td>...</td>\n",
       "      <td>-0.02</td>\n",
       "      <td>-0.02</td>\n",
       "      <td>-0.02</td>\n",
       "      <td>-0.02</td>\n",
       "      <td>-0.02</td>\n",
       "      <td>-0.02</td>\n",
       "      <td>-0.02</td>\n",
       "      <td>-0.02</td>\n",
       "      <td>-0.02</td>\n",
       "      <td>-0.02</td>\n",
       "    </tr>\n",
       "    <tr>\n",
       "      <th>id3</th>\n",
       "      <td>0.04</td>\n",
       "      <td>0.04</td>\n",
       "      <td>0.03</td>\n",
       "      <td>0.03</td>\n",
       "      <td>0.03</td>\n",
       "      <td>0.03</td>\n",
       "      <td>0.03</td>\n",
       "      <td>0.03</td>\n",
       "      <td>0.03</td>\n",
       "      <td>0.03</td>\n",
       "      <td>...</td>\n",
       "      <td>0.13</td>\n",
       "      <td>0.13</td>\n",
       "      <td>0.13</td>\n",
       "      <td>0.13</td>\n",
       "      <td>0.13</td>\n",
       "      <td>0.13</td>\n",
       "      <td>0.13</td>\n",
       "      <td>0.13</td>\n",
       "      <td>0.13</td>\n",
       "      <td>0.13</td>\n",
       "    </tr>\n",
       "    <tr>\n",
       "      <th>id4</th>\n",
       "      <td>-0.36</td>\n",
       "      <td>-0.36</td>\n",
       "      <td>-0.35</td>\n",
       "      <td>-0.34</td>\n",
       "      <td>-0.34</td>\n",
       "      <td>-0.33</td>\n",
       "      <td>-0.33</td>\n",
       "      <td>-0.32</td>\n",
       "      <td>-0.32</td>\n",
       "      <td>-0.31</td>\n",
       "      <td>...</td>\n",
       "      <td>-0.20</td>\n",
       "      <td>-0.19</td>\n",
       "      <td>-0.19</td>\n",
       "      <td>-0.19</td>\n",
       "      <td>-0.19</td>\n",
       "      <td>-0.19</td>\n",
       "      <td>-0.19</td>\n",
       "      <td>-0.19</td>\n",
       "      <td>-0.19</td>\n",
       "      <td>-0.19</td>\n",
       "    </tr>\n",
       "    <tr>\n",
       "      <th>id5</th>\n",
       "      <td>-0.02</td>\n",
       "      <td>-0.02</td>\n",
       "      <td>-0.02</td>\n",
       "      <td>-0.02</td>\n",
       "      <td>-0.02</td>\n",
       "      <td>-0.01</td>\n",
       "      <td>-0.01</td>\n",
       "      <td>-0.01</td>\n",
       "      <td>-0.01</td>\n",
       "      <td>-0.01</td>\n",
       "      <td>...</td>\n",
       "      <td>0.10</td>\n",
       "      <td>0.08</td>\n",
       "      <td>0.06</td>\n",
       "      <td>0.03</td>\n",
       "      <td>0.01</td>\n",
       "      <td>-0.01</td>\n",
       "      <td>-0.03</td>\n",
       "      <td>-0.05</td>\n",
       "      <td>-0.07</td>\n",
       "      <td>-0.08</td>\n",
       "    </tr>\n",
       "    <tr>\n",
       "      <th>...</th>\n",
       "      <td>...</td>\n",
       "      <td>...</td>\n",
       "      <td>...</td>\n",
       "      <td>...</td>\n",
       "      <td>...</td>\n",
       "      <td>...</td>\n",
       "      <td>...</td>\n",
       "      <td>...</td>\n",
       "      <td>...</td>\n",
       "      <td>...</td>\n",
       "      <td>...</td>\n",
       "      <td>...</td>\n",
       "      <td>...</td>\n",
       "      <td>...</td>\n",
       "      <td>...</td>\n",
       "      <td>...</td>\n",
       "      <td>...</td>\n",
       "      <td>...</td>\n",
       "      <td>...</td>\n",
       "      <td>...</td>\n",
       "      <td>...</td>\n",
       "    </tr>\n",
       "    <tr>\n",
       "      <th>id69</th>\n",
       "      <td>0.10</td>\n",
       "      <td>0.10</td>\n",
       "      <td>0.10</td>\n",
       "      <td>0.10</td>\n",
       "      <td>0.10</td>\n",
       "      <td>0.10</td>\n",
       "      <td>0.10</td>\n",
       "      <td>0.09</td>\n",
       "      <td>0.09</td>\n",
       "      <td>0.10</td>\n",
       "      <td>...</td>\n",
       "      <td>0.08</td>\n",
       "      <td>0.08</td>\n",
       "      <td>0.08</td>\n",
       "      <td>0.08</td>\n",
       "      <td>0.08</td>\n",
       "      <td>0.08</td>\n",
       "      <td>0.08</td>\n",
       "      <td>0.08</td>\n",
       "      <td>0.08</td>\n",
       "      <td>0.08</td>\n",
       "    </tr>\n",
       "    <tr>\n",
       "      <th>id70</th>\n",
       "      <td>0.00</td>\n",
       "      <td>0.00</td>\n",
       "      <td>0.00</td>\n",
       "      <td>0.00</td>\n",
       "      <td>0.01</td>\n",
       "      <td>0.01</td>\n",
       "      <td>0.01</td>\n",
       "      <td>0.01</td>\n",
       "      <td>0.01</td>\n",
       "      <td>0.01</td>\n",
       "      <td>...</td>\n",
       "      <td>-0.07</td>\n",
       "      <td>-0.09</td>\n",
       "      <td>-0.10</td>\n",
       "      <td>-0.12</td>\n",
       "      <td>-0.13</td>\n",
       "      <td>-0.14</td>\n",
       "      <td>-0.15</td>\n",
       "      <td>-0.16</td>\n",
       "      <td>-0.16</td>\n",
       "      <td>-0.17</td>\n",
       "    </tr>\n",
       "    <tr>\n",
       "      <th>id71</th>\n",
       "      <td>-0.55</td>\n",
       "      <td>-0.55</td>\n",
       "      <td>-0.55</td>\n",
       "      <td>-0.55</td>\n",
       "      <td>-0.55</td>\n",
       "      <td>-0.55</td>\n",
       "      <td>-0.55</td>\n",
       "      <td>-0.56</td>\n",
       "      <td>-0.56</td>\n",
       "      <td>-0.56</td>\n",
       "      <td>...</td>\n",
       "      <td>0.08</td>\n",
       "      <td>0.08</td>\n",
       "      <td>0.08</td>\n",
       "      <td>0.08</td>\n",
       "      <td>0.08</td>\n",
       "      <td>0.08</td>\n",
       "      <td>0.08</td>\n",
       "      <td>0.08</td>\n",
       "      <td>0.08</td>\n",
       "      <td>0.08</td>\n",
       "    </tr>\n",
       "    <tr>\n",
       "      <th>id72</th>\n",
       "      <td>-0.00</td>\n",
       "      <td>-0.00</td>\n",
       "      <td>-0.00</td>\n",
       "      <td>-0.01</td>\n",
       "      <td>-0.01</td>\n",
       "      <td>-0.01</td>\n",
       "      <td>-0.01</td>\n",
       "      <td>-0.01</td>\n",
       "      <td>-0.01</td>\n",
       "      <td>-0.02</td>\n",
       "      <td>...</td>\n",
       "      <td>-0.07</td>\n",
       "      <td>-0.07</td>\n",
       "      <td>-0.07</td>\n",
       "      <td>-0.07</td>\n",
       "      <td>-0.07</td>\n",
       "      <td>-0.07</td>\n",
       "      <td>-0.07</td>\n",
       "      <td>-0.07</td>\n",
       "      <td>-0.08</td>\n",
       "      <td>-0.08</td>\n",
       "    </tr>\n",
       "    <tr>\n",
       "      <th>id73</th>\n",
       "      <td>0.14</td>\n",
       "      <td>0.14</td>\n",
       "      <td>0.14</td>\n",
       "      <td>0.14</td>\n",
       "      <td>0.14</td>\n",
       "      <td>0.14</td>\n",
       "      <td>0.14</td>\n",
       "      <td>0.14</td>\n",
       "      <td>0.14</td>\n",
       "      <td>0.14</td>\n",
       "      <td>...</td>\n",
       "      <td>1.35</td>\n",
       "      <td>1.33</td>\n",
       "      <td>1.30</td>\n",
       "      <td>1.27</td>\n",
       "      <td>1.24</td>\n",
       "      <td>1.20</td>\n",
       "      <td>1.15</td>\n",
       "      <td>1.11</td>\n",
       "      <td>1.06</td>\n",
       "      <td>1.01</td>\n",
       "    </tr>\n",
       "  </tbody>\n",
       "</table>\n",
       "<p>70 rows × 240000 columns</p>\n",
       "</div>"
      ],
      "text/plain": [
       "      1       2       3       4       5       6       7       8       9       \\\n",
       "id1     0.79    0.79    0.79    0.78    0.78    0.77    0.77    0.76    0.76   \n",
       "id2     0.03    0.03    0.03    0.03    0.03    0.03    0.03    0.03    0.03   \n",
       "id3     0.04    0.04    0.03    0.03    0.03    0.03    0.03    0.03    0.03   \n",
       "id4    -0.36   -0.36   -0.35   -0.34   -0.34   -0.33   -0.33   -0.32   -0.32   \n",
       "id5    -0.02   -0.02   -0.02   -0.02   -0.02   -0.01   -0.01   -0.01   -0.01   \n",
       "...      ...     ...     ...     ...     ...     ...     ...     ...     ...   \n",
       "id69    0.10    0.10    0.10    0.10    0.10    0.10    0.10    0.09    0.09   \n",
       "id70    0.00    0.00    0.00    0.00    0.01    0.01    0.01    0.01    0.01   \n",
       "id71   -0.55   -0.55   -0.55   -0.55   -0.55   -0.55   -0.55   -0.56   -0.56   \n",
       "id72   -0.00   -0.00   -0.00   -0.01   -0.01   -0.01   -0.01   -0.01   -0.01   \n",
       "id73    0.14    0.14    0.14    0.14    0.14    0.14    0.14    0.14    0.14   \n",
       "\n",
       "      10      ...  239991  239992  239993  239994  239995  239996  239997  \\\n",
       "id1     0.75  ...    1.75    1.69    1.62    1.56    1.49    1.43    1.36   \n",
       "id2     0.03  ...   -0.02   -0.02   -0.02   -0.02   -0.02   -0.02   -0.02   \n",
       "id3     0.03  ...    0.13    0.13    0.13    0.13    0.13    0.13    0.13   \n",
       "id4    -0.31  ...   -0.20   -0.19   -0.19   -0.19   -0.19   -0.19   -0.19   \n",
       "id5    -0.01  ...    0.10    0.08    0.06    0.03    0.01   -0.01   -0.03   \n",
       "...      ...  ...     ...     ...     ...     ...     ...     ...     ...   \n",
       "id69    0.10  ...    0.08    0.08    0.08    0.08    0.08    0.08    0.08   \n",
       "id70    0.01  ...   -0.07   -0.09   -0.10   -0.12   -0.13   -0.14   -0.15   \n",
       "id71   -0.56  ...    0.08    0.08    0.08    0.08    0.08    0.08    0.08   \n",
       "id72   -0.02  ...   -0.07   -0.07   -0.07   -0.07   -0.07   -0.07   -0.07   \n",
       "id73    0.14  ...    1.35    1.33    1.30    1.27    1.24    1.20    1.15   \n",
       "\n",
       "      239998  239999  240000  \n",
       "id1     1.30    1.23    1.16  \n",
       "id2    -0.02   -0.02   -0.02  \n",
       "id3     0.13    0.13    0.13  \n",
       "id4    -0.19   -0.19   -0.19  \n",
       "id5    -0.05   -0.07   -0.08  \n",
       "...      ...     ...     ...  \n",
       "id69    0.08    0.08    0.08  \n",
       "id70   -0.16   -0.16   -0.17  \n",
       "id71    0.08    0.08    0.08  \n",
       "id72   -0.07   -0.08   -0.08  \n",
       "id73    1.11    1.06    1.01  \n",
       "\n",
       "[70 rows x 240000 columns]"
      ]
     },
     "execution_count": 3,
     "metadata": {},
     "output_type": "execute_result"
    }
   ],
   "source": [
    "sampling_rate = 2000\n",
    "raw = pd.read_csv('./data/ecg_70.txt', sep = ' ').T\n",
    "raw"
   ]
  },
  {
   "cell_type": "code",
   "execution_count": null,
   "metadata": {},
   "outputs": [],
   "source": []
  },
  {
   "cell_type": "markdown",
   "metadata": {},
   "source": [
    "## 1. Time Domain"
   ]
  },
  {
   "cell_type": "code",
   "execution_count": 17,
   "metadata": {},
   "outputs": [
    {
     "name": "stdout",
     "output_type": "stream",
     "text": [
      "0 ~ 20000\n"
     ]
    },
    {
     "data": {
      "application/vnd.jupyter.widget-view+json": {
       "model_id": "ec973a16eb1b4d67bf241cc77afc2d3a",
       "version_major": 2,
       "version_minor": 0
      },
      "text/plain": [
       "  0%|          | 0/70 [00:00<?, ?it/s]"
      ]
     },
     "metadata": {},
     "output_type": "display_data"
    },
    {
     "data": {
      "application/vnd.jupyter.widget-view+json": {
       "model_id": "d30fecfa6afd46cebaee2ab6ba36984b",
       "version_major": 2,
       "version_minor": 0
      },
      "text/plain": [
       "  0%|          | 0/70 [00:00<?, ?it/s]"
      ]
     },
     "metadata": {},
     "output_type": "display_data"
    },
    {
     "data": {
      "application/vnd.jupyter.widget-view+json": {
       "model_id": "85d2e708b640414ebc1127b64022daa0",
       "version_major": 2,
       "version_minor": 0
      },
      "text/plain": [
       "  0%|          | 0/70 [00:00<?, ?it/s]"
      ]
     },
     "metadata": {},
     "output_type": "display_data"
    }
   ],
   "source": [
    "start = 0\n",
    "start *= 2000\n",
    "end = 10\n",
    "end *= 2000\n",
    "print(f'{start} ~ {end}')\n",
    "\n",
    "\n",
    "\n",
    "time_nk_result = dict()\n",
    "for row in tqdm(raw.iterrows(), total = len(raw)):\n",
    "    id = row[0]\n",
    "    sampling_rate = 2000\n",
    "    signal = row[1].tolist()[start : end]\n",
    "    pro = nk_processing(signal, sampling_rate)\n",
    "    time_nk_result[id] = time(pro['rpeaks'], 2000)\n",
    "    \n",
    "    \n",
    "time_biosppy_result = dict()\n",
    "for row in tqdm(raw.iterrows(), total = len(raw)):\n",
    "    id = row[0]\n",
    "    sampling_rate = 2000\n",
    "    signal = row[1].tolist()[start : end]\n",
    "    pro = biosppy_processing(signal, sampling_rate)\n",
    "    time_biosppy_result[id] = time(pro['rpeaks'], 2000)\n",
    "    \n",
    "    \n",
    "time_aggregate_result = dict()\n",
    "for row in tqdm(raw.iterrows(), total = len(raw)):\n",
    "    id = row[0]\n",
    "    sampling_rate = 2000\n",
    "    signal = row[1].tolist()[start : end]\n",
    "    pro = processing_aggregate(signal, sampling_rate)\n",
    "    time_aggregate_result[id] = time(pro['rpeaks'], 2000)\n"
   ]
  },
  {
   "cell_type": "code",
   "execution_count": 18,
   "metadata": {},
   "outputs": [
    {
     "name": "stdout",
     "output_type": "stream",
     "text": [
      "0 ~ 20000\n"
     ]
    },
    {
     "data": {
      "text/html": [
       "<div>\n",
       "<style scoped>\n",
       "    .dataframe tbody tr th:only-of-type {\n",
       "        vertical-align: middle;\n",
       "    }\n",
       "\n",
       "    .dataframe tbody tr th {\n",
       "        vertical-align: top;\n",
       "    }\n",
       "\n",
       "    .dataframe thead th {\n",
       "        text-align: right;\n",
       "    }\n",
       "</style>\n",
       "<table border=\"1\" class=\"dataframe\">\n",
       "  <thead>\n",
       "    <tr style=\"text-align: right;\">\n",
       "      <th></th>\n",
       "      <th>mean</th>\n",
       "      <th>std</th>\n",
       "    </tr>\n",
       "  </thead>\n",
       "  <tbody>\n",
       "    <tr>\n",
       "      <th>pyhrv rmssd</th>\n",
       "      <td>49.37</td>\n",
       "      <td>44.04</td>\n",
       "    </tr>\n",
       "    <tr>\n",
       "      <th>nk rmssd</th>\n",
       "      <td>49.37</td>\n",
       "      <td>44.04</td>\n",
       "    </tr>\n",
       "  </tbody>\n",
       "</table>\n",
       "</div>"
      ],
      "text/plain": [
       "             mean   std\n",
       "pyhrv rmssd 49.37 44.04\n",
       "nk rmssd    49.37 44.04"
      ]
     },
     "execution_count": 18,
     "metadata": {},
     "output_type": "execute_result"
    }
   ],
   "source": [
    "print(f'{start} ~ {end}')\n",
    "temp = time_nk_result\n",
    "temp = pd.DataFrame(temp).T.describe().loc[['mean', 'std']].T\n",
    "temp[temp.index.str.endswith('rmssd')]\n",
    "\n"
   ]
  },
  {
   "cell_type": "code",
   "execution_count": 19,
   "metadata": {},
   "outputs": [
    {
     "name": "stdout",
     "output_type": "stream",
     "text": [
      "0 ~ 20000\n"
     ]
    },
    {
     "data": {
      "text/html": [
       "<div>\n",
       "<style scoped>\n",
       "    .dataframe tbody tr th:only-of-type {\n",
       "        vertical-align: middle;\n",
       "    }\n",
       "\n",
       "    .dataframe tbody tr th {\n",
       "        vertical-align: top;\n",
       "    }\n",
       "\n",
       "    .dataframe thead th {\n",
       "        text-align: right;\n",
       "    }\n",
       "</style>\n",
       "<table border=\"1\" class=\"dataframe\">\n",
       "  <thead>\n",
       "    <tr style=\"text-align: right;\">\n",
       "      <th></th>\n",
       "      <th>mean</th>\n",
       "      <th>std</th>\n",
       "    </tr>\n",
       "  </thead>\n",
       "  <tbody>\n",
       "    <tr>\n",
       "      <th>pyhrv rmssd</th>\n",
       "      <td>46.78</td>\n",
       "      <td>43.75</td>\n",
       "    </tr>\n",
       "    <tr>\n",
       "      <th>nk rmssd</th>\n",
       "      <td>46.78</td>\n",
       "      <td>43.75</td>\n",
       "    </tr>\n",
       "  </tbody>\n",
       "</table>\n",
       "</div>"
      ],
      "text/plain": [
       "             mean   std\n",
       "pyhrv rmssd 46.78 43.75\n",
       "nk rmssd    46.78 43.75"
      ]
     },
     "execution_count": 19,
     "metadata": {},
     "output_type": "execute_result"
    }
   ],
   "source": [
    "print(f'{start} ~ {end}')\n",
    "temp = time_biosppy_result\n",
    "temp = pd.DataFrame(temp).T.describe().loc[['mean', 'std']].T\n",
    "temp[temp.index.str.endswith('rmssd')]\n",
    "\n"
   ]
  },
  {
   "cell_type": "code",
   "execution_count": 20,
   "metadata": {},
   "outputs": [
    {
     "name": "stdout",
     "output_type": "stream",
     "text": [
      "0 ~ 20000\n"
     ]
    },
    {
     "data": {
      "text/html": [
       "<div>\n",
       "<style scoped>\n",
       "    .dataframe tbody tr th:only-of-type {\n",
       "        vertical-align: middle;\n",
       "    }\n",
       "\n",
       "    .dataframe tbody tr th {\n",
       "        vertical-align: top;\n",
       "    }\n",
       "\n",
       "    .dataframe thead th {\n",
       "        text-align: right;\n",
       "    }\n",
       "</style>\n",
       "<table border=\"1\" class=\"dataframe\">\n",
       "  <thead>\n",
       "    <tr style=\"text-align: right;\">\n",
       "      <th></th>\n",
       "      <th>mean</th>\n",
       "      <th>std</th>\n",
       "    </tr>\n",
       "  </thead>\n",
       "  <tbody>\n",
       "    <tr>\n",
       "      <th>pyhrv rmssd</th>\n",
       "      <td>49.33</td>\n",
       "      <td>44.05</td>\n",
       "    </tr>\n",
       "    <tr>\n",
       "      <th>nk rmssd</th>\n",
       "      <td>49.33</td>\n",
       "      <td>44.05</td>\n",
       "    </tr>\n",
       "  </tbody>\n",
       "</table>\n",
       "</div>"
      ],
      "text/plain": [
       "             mean   std\n",
       "pyhrv rmssd 49.33 44.05\n",
       "nk rmssd    49.33 44.05"
      ]
     },
     "execution_count": 20,
     "metadata": {},
     "output_type": "execute_result"
    }
   ],
   "source": [
    "print(f'{start} ~ {end}')\n",
    "temp = time_aggregate_result\n",
    "temp = pd.DataFrame(temp).T.describe().loc[['mean', 'std']].T\n",
    "temp[temp.index.str.endswith('rmssd')]\n",
    "\n"
   ]
  },
  {
   "cell_type": "code",
   "execution_count": null,
   "metadata": {},
   "outputs": [],
   "source": []
  },
  {
   "cell_type": "markdown",
   "metadata": {},
   "source": [
    "## 2. Frequency Domain"
   ]
  },
  {
   "cell_type": "code",
   "execution_count": 9,
   "metadata": {},
   "outputs": [
    {
     "name": "stdout",
     "output_type": "stream",
     "text": [
      "0 ~ 120000\n"
     ]
    },
    {
     "data": {
      "application/vnd.jupyter.widget-view+json": {
       "model_id": "3fd8991e9f6c4231bdd74df3578f37b6",
       "version_major": 2,
       "version_minor": 0
      },
      "text/plain": [
       "  0%|          | 0/70 [00:00<?, ?it/s]"
      ]
     },
     "metadata": {},
     "output_type": "display_data"
    },
    {
     "data": {
      "application/vnd.jupyter.widget-view+json": {
       "model_id": "6027297a0825469bb19bf715a63a952a",
       "version_major": 2,
       "version_minor": 0
      },
      "text/plain": [
       "  0%|          | 0/70 [00:00<?, ?it/s]"
      ]
     },
     "metadata": {},
     "output_type": "display_data"
    },
    {
     "data": {
      "application/vnd.jupyter.widget-view+json": {
       "model_id": "e74a481a8b2c4b07af5f682a4974da10",
       "version_major": 2,
       "version_minor": 0
      },
      "text/plain": [
       "  0%|          | 0/70 [00:00<?, ?it/s]"
      ]
     },
     "metadata": {},
     "output_type": "display_data"
    }
   ],
   "source": [
    "start = 0\n",
    "start *= 2000\n",
    "end = 60\n",
    "end *= 2000\n",
    "print(f'{start} ~ {end}')\n",
    "\n",
    "\n",
    "\n",
    "frequency_nk_result = dict()\n",
    "for row in tqdm(raw.iterrows(), total = len(raw)):\n",
    "    id = row[0]\n",
    "    sampling_rate = 2000\n",
    "    signal = row[1].tolist()[start : end]\n",
    "    pro = nk_processing(signal, sampling_rate)\n",
    "    frequency_nk_result_ = dict()\n",
    "    output = frequency(pro['rpeaks'], 2000)\n",
    "    frequency_nk_result_['pyhrv welch'] = output['pyhrv welch']['fft_ratio']\n",
    "    frequency_nk_result_['pyhrv ar'] = output['pyhrv ar']['ar_ratio']\n",
    "    frequency_nk_result_['nk welch'] = output['nk welch']['HRV_LFHF']\n",
    "    frequency_nk_result_['nk fft'] = output['nk fft']['HRV_LFHF']\n",
    "    frequency_nk_result[id] = frequency_nk_result_\n",
    "\n",
    "\n",
    "\n",
    "frequency_biosppy_result = dict()\n",
    "for row in tqdm(raw.iterrows(), total = len(raw)):\n",
    "    id = row[0]\n",
    "    sampling_rate = 2000\n",
    "    signal = row[1].tolist()[start : end]\n",
    "    pro = biosppy_processing(signal, sampling_rate)\n",
    "    frequency_biosppy_result_ = dict()\n",
    "    output = frequency(pro['rpeaks'], 2000)\n",
    "    frequency_biosppy_result_['pyhrv welch'] = output['pyhrv welch']['fft_ratio']\n",
    "    frequency_biosppy_result_['pyhrv ar'] = output['pyhrv ar']['ar_ratio']\n",
    "    frequency_biosppy_result_['nk welch'] = output['nk welch']['HRV_LFHF']\n",
    "    frequency_biosppy_result_['nk fft'] = output['nk fft']['HRV_LFHF']\n",
    "    frequency_biosppy_result[id] = frequency_biosppy_result_\n",
    "\n",
    "\n",
    "\n",
    "\n",
    "frequency_aggregate_result = dict()\n",
    "for row in tqdm(raw.iterrows(), total = len(raw)):\n",
    "    id = row[0]\n",
    "    sampling_rate = 2000\n",
    "    signal = row[1].tolist()[start : end]\n",
    "    pro = processing_aggregate(signal, sampling_rate)\n",
    "    frequency_aggregate_result_ = dict()\n",
    "    output = frequency(pro['rpeaks'], 2000)\n",
    "    frequency_aggregate_result_['pyhrv welch'] = output['pyhrv welch']['fft_ratio']\n",
    "    frequency_aggregate_result_['pyhrv ar'] = output['pyhrv ar']['ar_ratio']\n",
    "    frequency_aggregate_result_['nk welch'] = output['nk welch']['HRV_LFHF']\n",
    "    frequency_aggregate_result_['nk fft'] = output['nk fft']['HRV_LFHF']\n",
    "    frequency_aggregate_result[id] = frequency_aggregate_result_\n",
    "\n",
    "\n",
    "\n"
   ]
  },
  {
   "cell_type": "code",
   "execution_count": 10,
   "metadata": {},
   "outputs": [
    {
     "name": "stdout",
     "output_type": "stream",
     "text": [
      "0 ~ 120000\n"
     ]
    },
    {
     "data": {
      "text/html": [
       "<div>\n",
       "<style scoped>\n",
       "    .dataframe tbody tr th:only-of-type {\n",
       "        vertical-align: middle;\n",
       "    }\n",
       "\n",
       "    .dataframe tbody tr th {\n",
       "        vertical-align: top;\n",
       "    }\n",
       "\n",
       "    .dataframe thead th {\n",
       "        text-align: right;\n",
       "    }\n",
       "</style>\n",
       "<table border=\"1\" class=\"dataframe\">\n",
       "  <thead>\n",
       "    <tr style=\"text-align: right;\">\n",
       "      <th></th>\n",
       "      <th>mean</th>\n",
       "      <th>std</th>\n",
       "    </tr>\n",
       "  </thead>\n",
       "  <tbody>\n",
       "    <tr>\n",
       "      <th>pyhrv welch</th>\n",
       "      <td>2.34</td>\n",
       "      <td>2.28</td>\n",
       "    </tr>\n",
       "    <tr>\n",
       "      <th>pyhrv ar</th>\n",
       "      <td>1.86</td>\n",
       "      <td>0.05</td>\n",
       "    </tr>\n",
       "    <tr>\n",
       "      <th>nk welch</th>\n",
       "      <td>1.68</td>\n",
       "      <td>1.83</td>\n",
       "    </tr>\n",
       "    <tr>\n",
       "      <th>nk fft</th>\n",
       "      <td>1.73</td>\n",
       "      <td>1.66</td>\n",
       "    </tr>\n",
       "  </tbody>\n",
       "</table>\n",
       "</div>"
      ],
      "text/plain": [
       "             mean  std\n",
       "pyhrv welch  2.34 2.28\n",
       "pyhrv ar     1.86 0.05\n",
       "nk welch     1.68 1.83\n",
       "nk fft       1.73 1.66"
      ]
     },
     "execution_count": 10,
     "metadata": {},
     "output_type": "execute_result"
    }
   ],
   "source": [
    "print(f'{start} ~ {end}')\n",
    "temp = frequency_nk_result\n",
    "temp = pd.DataFrame(temp).T.describe().loc[['mean', 'std']].T\n",
    "temp\n",
    "\n"
   ]
  },
  {
   "cell_type": "code",
   "execution_count": 11,
   "metadata": {},
   "outputs": [
    {
     "name": "stdout",
     "output_type": "stream",
     "text": [
      "0 ~ 120000\n"
     ]
    },
    {
     "data": {
      "text/html": [
       "<div>\n",
       "<style scoped>\n",
       "    .dataframe tbody tr th:only-of-type {\n",
       "        vertical-align: middle;\n",
       "    }\n",
       "\n",
       "    .dataframe tbody tr th {\n",
       "        vertical-align: top;\n",
       "    }\n",
       "\n",
       "    .dataframe thead th {\n",
       "        text-align: right;\n",
       "    }\n",
       "</style>\n",
       "<table border=\"1\" class=\"dataframe\">\n",
       "  <thead>\n",
       "    <tr style=\"text-align: right;\">\n",
       "      <th></th>\n",
       "      <th>mean</th>\n",
       "      <th>std</th>\n",
       "    </tr>\n",
       "  </thead>\n",
       "  <tbody>\n",
       "    <tr>\n",
       "      <th>pyhrv welch</th>\n",
       "      <td>2.33</td>\n",
       "      <td>2.33</td>\n",
       "    </tr>\n",
       "    <tr>\n",
       "      <th>pyhrv ar</th>\n",
       "      <td>1.87</td>\n",
       "      <td>0.05</td>\n",
       "    </tr>\n",
       "    <tr>\n",
       "      <th>nk welch</th>\n",
       "      <td>1.59</td>\n",
       "      <td>1.78</td>\n",
       "    </tr>\n",
       "    <tr>\n",
       "      <th>nk fft</th>\n",
       "      <td>1.68</td>\n",
       "      <td>1.63</td>\n",
       "    </tr>\n",
       "  </tbody>\n",
       "</table>\n",
       "</div>"
      ],
      "text/plain": [
       "             mean  std\n",
       "pyhrv welch  2.33 2.33\n",
       "pyhrv ar     1.87 0.05\n",
       "nk welch     1.59 1.78\n",
       "nk fft       1.68 1.63"
      ]
     },
     "execution_count": 11,
     "metadata": {},
     "output_type": "execute_result"
    }
   ],
   "source": [
    "print(f'{start} ~ {end}')\n",
    "temp = frequency_biosppy_result\n",
    "temp = pd.DataFrame(temp).T.describe().loc[['mean', 'std']].T\n",
    "temp\n",
    "\n"
   ]
  },
  {
   "cell_type": "code",
   "execution_count": 12,
   "metadata": {},
   "outputs": [
    {
     "name": "stdout",
     "output_type": "stream",
     "text": [
      "0 ~ 120000\n"
     ]
    },
    {
     "data": {
      "text/html": [
       "<div>\n",
       "<style scoped>\n",
       "    .dataframe tbody tr th:only-of-type {\n",
       "        vertical-align: middle;\n",
       "    }\n",
       "\n",
       "    .dataframe tbody tr th {\n",
       "        vertical-align: top;\n",
       "    }\n",
       "\n",
       "    .dataframe thead th {\n",
       "        text-align: right;\n",
       "    }\n",
       "</style>\n",
       "<table border=\"1\" class=\"dataframe\">\n",
       "  <thead>\n",
       "    <tr style=\"text-align: right;\">\n",
       "      <th></th>\n",
       "      <th>mean</th>\n",
       "      <th>std</th>\n",
       "    </tr>\n",
       "  </thead>\n",
       "  <tbody>\n",
       "    <tr>\n",
       "      <th>pyhrv welch</th>\n",
       "      <td>2.35</td>\n",
       "      <td>2.29</td>\n",
       "    </tr>\n",
       "    <tr>\n",
       "      <th>pyhrv ar</th>\n",
       "      <td>1.86</td>\n",
       "      <td>0.05</td>\n",
       "    </tr>\n",
       "    <tr>\n",
       "      <th>nk welch</th>\n",
       "      <td>1.65</td>\n",
       "      <td>1.72</td>\n",
       "    </tr>\n",
       "    <tr>\n",
       "      <th>nk fft</th>\n",
       "      <td>1.69</td>\n",
       "      <td>1.60</td>\n",
       "    </tr>\n",
       "  </tbody>\n",
       "</table>\n",
       "</div>"
      ],
      "text/plain": [
       "             mean  std\n",
       "pyhrv welch  2.35 2.29\n",
       "pyhrv ar     1.86 0.05\n",
       "nk welch     1.65 1.72\n",
       "nk fft       1.69 1.60"
      ]
     },
     "execution_count": 12,
     "metadata": {},
     "output_type": "execute_result"
    }
   ],
   "source": [
    "print(f'{start} ~ {end}')\n",
    "temp = frequency_aggregate_result\n",
    "temp = pd.DataFrame(temp).T.describe().loc[['mean', 'std']].T\n",
    "temp\n",
    "\n"
   ]
  },
  {
   "cell_type": "code",
   "execution_count": null,
   "metadata": {},
   "outputs": [],
   "source": []
  },
  {
   "cell_type": "code",
   "execution_count": null,
   "metadata": {},
   "outputs": [],
   "source": []
  },
  {
   "cell_type": "markdown",
   "metadata": {},
   "source": [
    "## 3. Nonlienar"
   ]
  },
  {
   "cell_type": "code",
   "execution_count": 13,
   "metadata": {},
   "outputs": [
    {
     "name": "stdout",
     "output_type": "stream",
     "text": [
      "0 ~ 120000\n"
     ]
    },
    {
     "data": {
      "application/vnd.jupyter.widget-view+json": {
       "model_id": "e96bcd6b157045448ad69f90e80c3262",
       "version_major": 2,
       "version_minor": 0
      },
      "text/plain": [
       "  0%|          | 0/70 [00:00<?, ?it/s]"
      ]
     },
     "metadata": {},
     "output_type": "display_data"
    },
    {
     "data": {
      "application/vnd.jupyter.widget-view+json": {
       "model_id": "f52892fd871846fda2d96a45c62f7259",
       "version_major": 2,
       "version_minor": 0
      },
      "text/plain": [
       "  0%|          | 0/70 [00:00<?, ?it/s]"
      ]
     },
     "metadata": {},
     "output_type": "display_data"
    },
    {
     "data": {
      "application/vnd.jupyter.widget-view+json": {
       "model_id": "112f692146bb44a5a1b0eb62a795cf16",
       "version_major": 2,
       "version_minor": 0
      },
      "text/plain": [
       "  0%|          | 0/70 [00:00<?, ?it/s]"
      ]
     },
     "metadata": {},
     "output_type": "display_data"
    }
   ],
   "source": [
    "start = 0\n",
    "start *= 2000\n",
    "end = 60\n",
    "end *= 2000\n",
    "print(f'{start} ~ {end}')\n",
    "\n",
    "\n",
    "\n",
    "nonlinear_nk_result = dict()\n",
    "for row in tqdm(raw.iterrows(), total = len(raw)):\n",
    "    id = row[0]\n",
    "    sampling_rate = 2000\n",
    "    signal = row[1].tolist()[start : end]\n",
    "    pro = nk_processing(signal, sampling_rate)\n",
    "    nonlinear_nk_result_ = dict()\n",
    "    output = nonlinear(pro['rpeaks'], 2000)\n",
    "    nonlinear_nk_result_['pyhrv'] = output['pyhrv nonlinear']['sd1/sd2']\n",
    "    nonlinear_nk_result_['nk'] = output['nk nonlinear']['HRV_SD1SD2']\n",
    "    nonlinear_nk_result[id] = nonlinear_nk_result_\n",
    "\n",
    "\n",
    "nonlinear_biosppy_result = dict()\n",
    "for row in tqdm(raw.iterrows(), total = len(raw)):\n",
    "    id = row[0]\n",
    "    sampling_rate = 2000\n",
    "    signal = row[1].tolist()[start : end]\n",
    "    pro = biosppy_processing(signal, sampling_rate)\n",
    "    nonlinear_biosppy_result_ = dict()\n",
    "    output = nonlinear(pro['rpeaks'], 2000)\n",
    "    nonlinear_biosppy_result_['pyhrv'] = output['pyhrv nonlinear']['sd1/sd2']\n",
    "    nonlinear_biosppy_result_['nk'] = output['nk nonlinear']['HRV_SD1SD2']\n",
    "    nonlinear_biosppy_result[id] = nonlinear_biosppy_result_\n",
    "\n",
    "\n",
    "nonlinear_aggregate_result = dict()\n",
    "for row in tqdm(raw.iterrows(), total = len(raw)):\n",
    "    id = row[0]\n",
    "    sampling_rate = 2000\n",
    "    signal = row[1].tolist()[start : end]\n",
    "    pro = processing_aggregate(signal, sampling_rate)\n",
    "    nonlinear_aggregate_result_ = dict()\n",
    "    output = nonlinear(pro['rpeaks'], 2000)\n",
    "    nonlinear_aggregate_result_['pyhrv'] = output['pyhrv nonlinear']['sd1/sd2']\n",
    "    nonlinear_aggregate_result_['nk'] = output['nk nonlinear']['HRV_SD1SD2']\n",
    "    nonlinear_aggregate_result[id] = nonlinear_aggregate_result_\n",
    "\n",
    "\n"
   ]
  },
  {
   "cell_type": "code",
   "execution_count": 14,
   "metadata": {},
   "outputs": [
    {
     "name": "stdout",
     "output_type": "stream",
     "text": [
      "0 ~ 120000\n"
     ]
    },
    {
     "data": {
      "text/html": [
       "<div>\n",
       "<style scoped>\n",
       "    .dataframe tbody tr th:only-of-type {\n",
       "        vertical-align: middle;\n",
       "    }\n",
       "\n",
       "    .dataframe tbody tr th {\n",
       "        vertical-align: top;\n",
       "    }\n",
       "\n",
       "    .dataframe thead th {\n",
       "        text-align: right;\n",
       "    }\n",
       "</style>\n",
       "<table border=\"1\" class=\"dataframe\">\n",
       "  <thead>\n",
       "    <tr style=\"text-align: right;\">\n",
       "      <th></th>\n",
       "      <th>mean</th>\n",
       "      <th>std</th>\n",
       "    </tr>\n",
       "  </thead>\n",
       "  <tbody>\n",
       "    <tr>\n",
       "      <th>pyhrv</th>\n",
       "      <td>0.44</td>\n",
       "      <td>0.21</td>\n",
       "    </tr>\n",
       "    <tr>\n",
       "      <th>nk</th>\n",
       "      <td>0.44</td>\n",
       "      <td>0.21</td>\n",
       "    </tr>\n",
       "  </tbody>\n",
       "</table>\n",
       "</div>"
      ],
      "text/plain": [
       "       mean  std\n",
       "pyhrv  0.44 0.21\n",
       "nk     0.44 0.21"
      ]
     },
     "execution_count": 14,
     "metadata": {},
     "output_type": "execute_result"
    }
   ],
   "source": [
    "print(f'{start} ~ {end}')\n",
    "temp = nonlinear_nk_result\n",
    "temp = pd.DataFrame(temp).T.describe().loc[['mean', 'std']].T\n",
    "temp\n",
    "\n"
   ]
  },
  {
   "cell_type": "code",
   "execution_count": 15,
   "metadata": {},
   "outputs": [
    {
     "name": "stdout",
     "output_type": "stream",
     "text": [
      "0 ~ 120000\n"
     ]
    },
    {
     "data": {
      "text/html": [
       "<div>\n",
       "<style scoped>\n",
       "    .dataframe tbody tr th:only-of-type {\n",
       "        vertical-align: middle;\n",
       "    }\n",
       "\n",
       "    .dataframe tbody tr th {\n",
       "        vertical-align: top;\n",
       "    }\n",
       "\n",
       "    .dataframe thead th {\n",
       "        text-align: right;\n",
       "    }\n",
       "</style>\n",
       "<table border=\"1\" class=\"dataframe\">\n",
       "  <thead>\n",
       "    <tr style=\"text-align: right;\">\n",
       "      <th></th>\n",
       "      <th>mean</th>\n",
       "      <th>std</th>\n",
       "    </tr>\n",
       "  </thead>\n",
       "  <tbody>\n",
       "    <tr>\n",
       "      <th>pyhrv</th>\n",
       "      <td>0.44</td>\n",
       "      <td>0.22</td>\n",
       "    </tr>\n",
       "    <tr>\n",
       "      <th>nk</th>\n",
       "      <td>0.44</td>\n",
       "      <td>0.22</td>\n",
       "    </tr>\n",
       "  </tbody>\n",
       "</table>\n",
       "</div>"
      ],
      "text/plain": [
       "       mean  std\n",
       "pyhrv  0.44 0.22\n",
       "nk     0.44 0.22"
      ]
     },
     "execution_count": 15,
     "metadata": {},
     "output_type": "execute_result"
    }
   ],
   "source": [
    "print(f'{start} ~ {end}')\n",
    "temp = nonlinear_biosppy_result\n",
    "temp = pd.DataFrame(temp).T.describe().loc[['mean', 'std']].T\n",
    "temp\n",
    "\n"
   ]
  },
  {
   "cell_type": "code",
   "execution_count": 16,
   "metadata": {},
   "outputs": [
    {
     "name": "stdout",
     "output_type": "stream",
     "text": [
      "0 ~ 120000\n"
     ]
    },
    {
     "data": {
      "text/html": [
       "<div>\n",
       "<style scoped>\n",
       "    .dataframe tbody tr th:only-of-type {\n",
       "        vertical-align: middle;\n",
       "    }\n",
       "\n",
       "    .dataframe tbody tr th {\n",
       "        vertical-align: top;\n",
       "    }\n",
       "\n",
       "    .dataframe thead th {\n",
       "        text-align: right;\n",
       "    }\n",
       "</style>\n",
       "<table border=\"1\" class=\"dataframe\">\n",
       "  <thead>\n",
       "    <tr style=\"text-align: right;\">\n",
       "      <th></th>\n",
       "      <th>mean</th>\n",
       "      <th>std</th>\n",
       "    </tr>\n",
       "  </thead>\n",
       "  <tbody>\n",
       "    <tr>\n",
       "      <th>pyhrv</th>\n",
       "      <td>0.44</td>\n",
       "      <td>0.21</td>\n",
       "    </tr>\n",
       "    <tr>\n",
       "      <th>nk</th>\n",
       "      <td>0.44</td>\n",
       "      <td>0.21</td>\n",
       "    </tr>\n",
       "  </tbody>\n",
       "</table>\n",
       "</div>"
      ],
      "text/plain": [
       "       mean  std\n",
       "pyhrv  0.44 0.21\n",
       "nk     0.44 0.21"
      ]
     },
     "execution_count": 16,
     "metadata": {},
     "output_type": "execute_result"
    }
   ],
   "source": [
    "print(f'{start} ~ {end}')\n",
    "temp = nonlinear_aggregate_result\n",
    "temp = pd.DataFrame(temp).T.describe().loc[['mean', 'std']].T\n",
    "temp\n",
    "\n"
   ]
  },
  {
   "cell_type": "code",
   "execution_count": null,
   "metadata": {},
   "outputs": [],
   "source": []
  }
 ],
 "metadata": {
  "kernelspec": {
   "display_name": "local",
   "language": "python",
   "name": "python3"
  },
  "language_info": {
   "codemirror_mode": {
    "name": "ipython",
    "version": 3
   },
   "file_extension": ".py",
   "mimetype": "text/x-python",
   "name": "python",
   "nbconvert_exporter": "python",
   "pygments_lexer": "ipython3",
   "version": "3.9.18"
  }
 },
 "nbformat": 4,
 "nbformat_minor": 2
}
